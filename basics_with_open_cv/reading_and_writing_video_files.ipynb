{
 "cells": [
  {
   "cell_type": "code",
   "execution_count": 2,
   "id": "21f29290",
   "metadata": {},
   "outputs": [],
   "source": [
    "import cv2\n"
   ]
  },
  {
   "cell_type": "code",
   "execution_count": 3,
   "id": "60d9bc58",
   "metadata": {},
   "outputs": [
    {
     "data": {
      "text/plain": [
       "'\\nNote : \\n\\nThis is not a video , this is the video capture object \\n'"
      ]
     },
     "execution_count": 3,
     "metadata": {},
     "output_type": "execute_result"
    }
   ],
   "source": [
    "# load the videos \n",
    "\n",
    "video = cv2.VideoCapture(\"../basics_resources_and_outputs/mountain.mp4\") \n",
    "\n",
    "\"\"\"\n",
    "Note : \n",
    "\n",
    "This is not a video , this is the video capture object \n",
    "\"\"\""
   ]
  },
  {
   "cell_type": "code",
   "execution_count": null,
   "id": "31060d66",
   "metadata": {},
   "outputs": [],
   "source": [
    "# displaying the video\n",
    "\n",
    "while True:\n",
    "    ret,frame = video.read() # if there are frames we will get ret,frame other wise (video ended or someother) we will get None\n",
    "    if not ret:\n",
    "        break\n",
    "    cv2.imshow(\"Video Frame\",frame)\n",
    "    if cv2.waitKey(1) & 0xFF == ord('q'):\n",
    "        break\n",
    "    \n",
    "    \n",
    "\"\"\"\n",
    "cv2.waitKey(1) => waits for 1 millisec before moving on to next frame \n",
    "if pressed q, it will break out of loop \n",
    "\"\"\"\n",
    "\n",
    "video.release()\n",
    "cv2.destroyAllWindows()\n",
    "\n",
    "\n",
    "\"\"\"\n",
    "ret (short for return) - a boolean value \n",
    "    True => if frame was read successfully\n",
    "    False => if there are no more frames to read (like when the video ends or if there's an error)\n",
    "    \n",
    "frame - the actual image frame (as a Numpy array)  captured from the video \n",
    "\"\"\"\n"
   ]
  },
  {
   "cell_type": "code",
   "execution_count": 8,
   "id": "6a53fe91",
   "metadata": {},
   "outputs": [],
   "source": [
    "# write a video to local storage\n",
    "\n",
    "video = cv2.VideoCapture(\"../basics_resources_and_outputs/mountain.mp4\")\n",
    "\n",
    "fourcc = cv2.VideoWriter_fourcc(*\"mp4v\") # it's video encoding type (explore about other video formats)\n",
    "width = int(video.get(cv2.CAP_PROP_FRAME_WIDTH))\n",
    "height = int(video.get(cv2.CAP_PROP_FRAME_HEIGHT))\n",
    "out = cv2.VideoWriter(\"../basics_resources_and_outputs/reading_and_writing_video_output.mp4\",fourcc,30,(width,height)) # 30 is the frames\n",
    "\n",
    "while True:\n",
    "    ret, frame = video.read()\n",
    "    # frame = frame + 20 => we should not do this here , because at the last frame it will be false , but we will be adding None + 20\n",
    "    if not ret:\n",
    "        break\n",
    "    frame= frame + 20\n",
    "    out.write(frame)\n",
    "    \n",
    "out.release()\n",
    "video.release()\n",
    "cv2.destroyAllWindows()"
   ]
  },
  {
   "cell_type": "code",
   "execution_count": null,
   "id": "2a1590d7",
   "metadata": {},
   "outputs": [],
   "source": []
  }
 ],
 "metadata": {
  "kernelspec": {
   "display_name": "deeplearning-env",
   "language": "python",
   "name": "python3"
  },
  "language_info": {
   "codemirror_mode": {
    "name": "ipython",
    "version": 3
   },
   "file_extension": ".py",
   "mimetype": "text/x-python",
   "name": "python",
   "nbconvert_exporter": "python",
   "pygments_lexer": "ipython3",
   "version": "3.13.7"
  }
 },
 "nbformat": 4,
 "nbformat_minor": 5
}
