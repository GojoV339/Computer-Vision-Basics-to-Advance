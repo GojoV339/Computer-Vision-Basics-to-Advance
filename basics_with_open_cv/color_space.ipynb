{
 "cells": [
  {
   "cell_type": "code",
   "execution_count": 1,
   "id": "6a84e024",
   "metadata": {},
   "outputs": [],
   "source": [
    "import cv2"
   ]
  },
  {
   "cell_type": "code",
   "execution_count": null,
   "id": "a1ef28d8",
   "metadata": {},
   "outputs": [],
   "source": [
    "# reading image\n",
    "\n",
    "bgr_image = cv2.imread(\"../basics_resources_and_outputs/mountain.jpg\") # opencv by default color format is bgr"
   ]
  },
  {
   "cell_type": "code",
   "execution_count": 6,
   "id": "11e244ed",
   "metadata": {},
   "outputs": [
    {
     "data": {
      "text/plain": [
       "True"
      ]
     },
     "execution_count": 6,
     "metadata": {},
     "output_type": "execute_result"
    }
   ],
   "source": [
    "# converting to grayscale \n",
    "\n",
    "gray_image = cv2.cvtColor(bgr_image, cv2.COLOR_BGR2GRAY)\n",
    "cv2.imwrite(\"../basics_resources_and_outputs/gray_mountain.jpg\",gray_image)"
   ]
  },
  {
   "cell_type": "code",
   "execution_count": 7,
   "id": "fbfe97ac",
   "metadata": {},
   "outputs": [
    {
     "data": {
      "text/plain": [
       "True"
      ]
     },
     "execution_count": 7,
     "metadata": {},
     "output_type": "execute_result"
    }
   ],
   "source": [
    "# converting to hsv\n",
    "hsv_image = cv2.cvtColor(bgr_image,cv2.COLOR_BGR2HSV)\n",
    "cv2.imwrite(\"../basics_resources_and_outputs/hsv_mountain.jpg\",hsv_image)"
   ]
  },
  {
   "cell_type": "code",
   "execution_count": 8,
   "id": "3b2ecb9a",
   "metadata": {},
   "outputs": [
    {
     "data": {
      "text/plain": [
       "True"
      ]
     },
     "execution_count": 8,
     "metadata": {},
     "output_type": "execute_result"
    }
   ],
   "source": [
    "# converting to LAB format\n",
    "lab_image = cv2.cvtColor(bgr_image,cv2.COLOR_BGR2LAB)\n",
    "cv2.imwrite(\"../basics_resources_and_outputs/LAB_mountain.jpg\",lab_image)"
   ]
  },
  {
   "cell_type": "code",
   "execution_count": 9,
   "id": "79e84e23",
   "metadata": {},
   "outputs": [
    {
     "data": {
      "text/plain": [
       "True"
      ]
     },
     "execution_count": 9,
     "metadata": {},
     "output_type": "execute_result"
    }
   ],
   "source": [
    "# convert to RGB format\n",
    "rgb_image = cv2.cvtColor(bgr_image,cv2.COLOR_BGR2RGB)\n",
    "cv2.imwrite(\"../basics_resources_and_outputs/rgb_mountain.jpg\",rgb_image)"
   ]
  },
  {
   "cell_type": "markdown",
   "id": "579881d8",
   "metadata": {},
   "source": [
    "### Note :\n",
    "\n",
    "1. Read about all the color formats and their differences , just skim through them. "
   ]
  }
 ],
 "metadata": {
  "kernelspec": {
   "display_name": "deeplearning-env",
   "language": "python",
   "name": "python3"
  },
  "language_info": {
   "codemirror_mode": {
    "name": "ipython",
    "version": 3
   },
   "file_extension": ".py",
   "mimetype": "text/x-python",
   "name": "python",
   "nbconvert_exporter": "python",
   "pygments_lexer": "ipython3",
   "version": "3.13.3"
  }
 },
 "nbformat": 4,
 "nbformat_minor": 5
}
