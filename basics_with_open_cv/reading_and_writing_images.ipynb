{
 "cells": [
  {
   "cell_type": "code",
   "execution_count": 1,
   "id": "b747fd10",
   "metadata": {},
   "outputs": [],
   "source": [
    "# importing libararies \n",
    "\n",
    "import cv2\n"
   ]
  },
  {
   "cell_type": "code",
   "execution_count": 2,
   "id": "34542413",
   "metadata": {},
   "outputs": [],
   "source": [
    "# reading the image\n",
    "\n",
    "image = cv2.imread(\"../basics_resources_and_outputs/mountain.jpg\")"
   ]
  },
  {
   "cell_type": "code",
   "execution_count": 3,
   "id": "00d59cd7",
   "metadata": {},
   "outputs": [
    {
     "name": "stdout",
     "output_type": "stream",
     "text": [
      "Image loaded successfully\n"
     ]
    }
   ],
   "source": [
    "# checking whether the image is loaded successfully or not\n",
    "if image is None:\n",
    "    print(\"Error : Could not load the image\")\n",
    "else:\n",
    "    print(\"Image loaded successfully\")"
   ]
  },
  {
   "cell_type": "code",
   "execution_count": null,
   "id": "758c6e5f",
   "metadata": {},
   "outputs": [
    {
     "name": "stderr",
     "output_type": "stream",
     "text": [
      "Warning: Ignoring XDG_SESSION_TYPE=wayland on Gnome. Use QT_QPA_PLATFORM=wayland to run on Wayland anyway.\n"
     ]
    }
   ],
   "source": [
    "# displaying the image\n",
    "\n",
    "cv2.imshow(\"Image Window\", image)\n",
    "cv2.waitKey(0)\n",
    "cv2.destroyAllWindows()"
   ]
  },
  {
   "cell_type": "code",
   "execution_count": 6,
   "id": "6a8608f1",
   "metadata": {},
   "outputs": [
    {
     "data": {
      "text/plain": [
       "True"
      ]
     },
     "execution_count": 6,
     "metadata": {},
     "output_type": "execute_result"
    }
   ],
   "source": [
    "# writing the image\n",
    "\n",
    "image_new = image + 50 # we are adding 30 to each pixel\n",
    "cv2.imwrite(\"../basics_resources_and_outputs/reading_writing_output.jpg\",image_new)"
   ]
  },
  {
   "cell_type": "code",
   "execution_count": null,
   "id": "5abc8f55",
   "metadata": {},
   "outputs": [],
   "source": []
  }
 ],
 "metadata": {
  "kernelspec": {
   "display_name": "deeplearning-env",
   "language": "python",
   "name": "python3"
  },
  "language_info": {
   "codemirror_mode": {
    "name": "ipython",
    "version": 3
   },
   "file_extension": ".py",
   "mimetype": "text/x-python",
   "name": "python",
   "nbconvert_exporter": "python",
   "pygments_lexer": "ipython3",
   "version": "3.13.3"
  }
 },
 "nbformat": 4,
 "nbformat_minor": 5
}
